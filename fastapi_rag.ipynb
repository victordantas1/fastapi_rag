{
 "cells": [
  {
   "metadata": {},
   "cell_type": "markdown",
   "source": "# FastAPI Docs RAG",
   "id": "25ef4a940809e04b"
  },
  {
   "metadata": {
    "ExecuteTime": {
     "end_time": "2025-08-15T01:48:29.065219Z",
     "start_time": "2025-08-15T01:48:29.039906Z"
    }
   },
   "cell_type": "code",
   "source": [
    "from dotenv import load_dotenv\n",
    "\n",
    "load_dotenv()"
   ],
   "id": "fe24831d74594d7e",
   "outputs": [
    {
     "data": {
      "text/plain": [
       "True"
      ]
     },
     "execution_count": 1,
     "metadata": {},
     "output_type": "execute_result"
    }
   ],
   "execution_count": 1
  },
  {
   "metadata": {},
   "cell_type": "markdown",
   "source": "## Get all Tutorials URLs from FastAPI Learn",
   "id": "726e1969b6104032"
  },
  {
   "metadata": {
    "ExecuteTime": {
     "end_time": "2025-08-15T01:48:29.332187Z",
     "start_time": "2025-08-15T01:48:29.069184Z"
    }
   },
   "cell_type": "code",
   "source": [
    "import requests\n",
    "from bs4 import BeautifulSoup\n",
    "from urllib.parse import urljoin\n",
    "\n",
    "def get_fastapi_docs_urls_requests():\n",
    "    base_url = \"https://fastapi.tiangolo.com/learn/\"\n",
    "    print(\"Carregando a página com a biblioteca 'requests'...\")\n",
    "    try:\n",
    "        response = requests.get(base_url, headers={'User-Agent': 'Mozilla/5.0'})\n",
    "        response.raise_for_status()\n",
    "        soup = BeautifulSoup(response.text, 'lxml')\n",
    "    except requests.exceptions.RequestException as e:\n",
    "        print(f\"Erro ao carregar a página: {e}\")\n",
    "        return []\n",
    "\n",
    "    # Encontra o menu de navegação principal\n",
    "    nav_container = soup.find(\"nav\", {\"class\": \"md-nav--primary\"})\n",
    "    if not nav_container:\n",
    "        print(\"Falha: Menu de navegação primário não encontrado.\")\n",
    "        return []\n",
    "\n",
    "    urls = set() # Usar um set para evitar duplicatas automaticamente\n",
    "\n",
    "    # Itera sobre todas as seções do tutorial e guia avançado\n",
    "    sections_to_find = [\"Tutorial - User Guide\", \"Advanced User Guide\"]\n",
    "    for section_text in sections_to_find:\n",
    "        span = nav_container.find(\"span\", class_=\"md-ellipsis\", string=lambda t: t and section_text in t.strip())\n",
    "        if span:\n",
    "            # Navega até o <li> pai e encontra todos os links dentro dele\n",
    "            container = span.find_parent('li')\n",
    "            if container:\n",
    "                for item in container.find_all(\"a\", class_=\"md-nav__link\"):\n",
    "                    href = item.get(\"href\")\n",
    "                    if href:\n",
    "                        full_url = urljoin(\"https://fastapi.tiangolo.com/\", href)\n",
    "                        urls.add(full_url)\n",
    "\n",
    "    unique_urls = sorted(list(urls)) # Converte para lista e ordena\n",
    "    print(f\"Encontradas {len(unique_urls)} URLs únicas para carregar.\")\n",
    "    return unique_urls"
   ],
   "id": "57912c218007991c",
   "outputs": [],
   "execution_count": 2
  },
  {
   "metadata": {
    "ExecuteTime": {
     "end_time": "2025-08-15T01:48:30.665363Z",
     "start_time": "2025-08-15T01:48:30.129556Z"
    }
   },
   "cell_type": "code",
   "source": [
    "urls_to_load = get_fastapi_docs_urls_requests()\n",
    "urls_to_load"
   ],
   "id": "ed0e502b4820c44a",
   "outputs": [
    {
     "name": "stdout",
     "output_type": "stream",
     "text": [
      "Carregando a página com a biblioteca 'requests'...\n",
      "Encontradas 78 URLs únicas para carregar.\n"
     ]
    },
    {
     "data": {
      "text/plain": [
       "['https://fastapi.tiangolo.com/advanced/',\n",
       " 'https://fastapi.tiangolo.com/advanced/additional-responses/',\n",
       " 'https://fastapi.tiangolo.com/advanced/additional-status-codes/',\n",
       " 'https://fastapi.tiangolo.com/advanced/advanced-dependencies/',\n",
       " 'https://fastapi.tiangolo.com/advanced/async-tests/',\n",
       " 'https://fastapi.tiangolo.com/advanced/behind-a-proxy/',\n",
       " 'https://fastapi.tiangolo.com/advanced/custom-response/',\n",
       " 'https://fastapi.tiangolo.com/advanced/dataclasses/',\n",
       " 'https://fastapi.tiangolo.com/advanced/events/',\n",
       " 'https://fastapi.tiangolo.com/advanced/generate-clients/',\n",
       " 'https://fastapi.tiangolo.com/advanced/middleware/',\n",
       " 'https://fastapi.tiangolo.com/advanced/openapi-callbacks/',\n",
       " 'https://fastapi.tiangolo.com/advanced/openapi-webhooks/',\n",
       " 'https://fastapi.tiangolo.com/advanced/path-operation-advanced-configuration/',\n",
       " 'https://fastapi.tiangolo.com/advanced/response-change-status-code/',\n",
       " 'https://fastapi.tiangolo.com/advanced/response-cookies/',\n",
       " 'https://fastapi.tiangolo.com/advanced/response-directly/',\n",
       " 'https://fastapi.tiangolo.com/advanced/response-headers/',\n",
       " 'https://fastapi.tiangolo.com/advanced/security/',\n",
       " 'https://fastapi.tiangolo.com/advanced/security/http-basic-auth/',\n",
       " 'https://fastapi.tiangolo.com/advanced/security/oauth2-scopes/',\n",
       " 'https://fastapi.tiangolo.com/advanced/settings/',\n",
       " 'https://fastapi.tiangolo.com/advanced/sub-applications/',\n",
       " 'https://fastapi.tiangolo.com/advanced/templates/',\n",
       " 'https://fastapi.tiangolo.com/advanced/testing-dependencies/',\n",
       " 'https://fastapi.tiangolo.com/advanced/testing-events/',\n",
       " 'https://fastapi.tiangolo.com/advanced/testing-websockets/',\n",
       " 'https://fastapi.tiangolo.com/advanced/using-request-directly/',\n",
       " 'https://fastapi.tiangolo.com/advanced/websockets/',\n",
       " 'https://fastapi.tiangolo.com/advanced/wsgi/',\n",
       " 'https://fastapi.tiangolo.com/tutorial/',\n",
       " 'https://fastapi.tiangolo.com/tutorial/background-tasks/',\n",
       " 'https://fastapi.tiangolo.com/tutorial/bigger-applications/',\n",
       " 'https://fastapi.tiangolo.com/tutorial/body-fields/',\n",
       " 'https://fastapi.tiangolo.com/tutorial/body-multiple-params/',\n",
       " 'https://fastapi.tiangolo.com/tutorial/body-nested-models/',\n",
       " 'https://fastapi.tiangolo.com/tutorial/body-updates/',\n",
       " 'https://fastapi.tiangolo.com/tutorial/body/',\n",
       " 'https://fastapi.tiangolo.com/tutorial/cookie-param-models/',\n",
       " 'https://fastapi.tiangolo.com/tutorial/cookie-params/',\n",
       " 'https://fastapi.tiangolo.com/tutorial/cors/',\n",
       " 'https://fastapi.tiangolo.com/tutorial/debugging/',\n",
       " 'https://fastapi.tiangolo.com/tutorial/dependencies/',\n",
       " 'https://fastapi.tiangolo.com/tutorial/dependencies/classes-as-dependencies/',\n",
       " 'https://fastapi.tiangolo.com/tutorial/dependencies/dependencies-in-path-operation-decorators/',\n",
       " 'https://fastapi.tiangolo.com/tutorial/dependencies/dependencies-with-yield/',\n",
       " 'https://fastapi.tiangolo.com/tutorial/dependencies/global-dependencies/',\n",
       " 'https://fastapi.tiangolo.com/tutorial/dependencies/sub-dependencies/',\n",
       " 'https://fastapi.tiangolo.com/tutorial/encoder/',\n",
       " 'https://fastapi.tiangolo.com/tutorial/extra-data-types/',\n",
       " 'https://fastapi.tiangolo.com/tutorial/extra-models/',\n",
       " 'https://fastapi.tiangolo.com/tutorial/first-steps/',\n",
       " 'https://fastapi.tiangolo.com/tutorial/handling-errors/',\n",
       " 'https://fastapi.tiangolo.com/tutorial/header-param-models/',\n",
       " 'https://fastapi.tiangolo.com/tutorial/header-params/',\n",
       " 'https://fastapi.tiangolo.com/tutorial/metadata/',\n",
       " 'https://fastapi.tiangolo.com/tutorial/middleware/',\n",
       " 'https://fastapi.tiangolo.com/tutorial/path-operation-configuration/',\n",
       " 'https://fastapi.tiangolo.com/tutorial/path-params-numeric-validations/',\n",
       " 'https://fastapi.tiangolo.com/tutorial/path-params/',\n",
       " 'https://fastapi.tiangolo.com/tutorial/query-param-models/',\n",
       " 'https://fastapi.tiangolo.com/tutorial/query-params-str-validations/',\n",
       " 'https://fastapi.tiangolo.com/tutorial/query-params/',\n",
       " 'https://fastapi.tiangolo.com/tutorial/request-files/',\n",
       " 'https://fastapi.tiangolo.com/tutorial/request-form-models/',\n",
       " 'https://fastapi.tiangolo.com/tutorial/request-forms-and-files/',\n",
       " 'https://fastapi.tiangolo.com/tutorial/request-forms/',\n",
       " 'https://fastapi.tiangolo.com/tutorial/response-model/',\n",
       " 'https://fastapi.tiangolo.com/tutorial/response-status-code/',\n",
       " 'https://fastapi.tiangolo.com/tutorial/schema-extra-example/',\n",
       " 'https://fastapi.tiangolo.com/tutorial/security/',\n",
       " 'https://fastapi.tiangolo.com/tutorial/security/first-steps/',\n",
       " 'https://fastapi.tiangolo.com/tutorial/security/get-current-user/',\n",
       " 'https://fastapi.tiangolo.com/tutorial/security/oauth2-jwt/',\n",
       " 'https://fastapi.tiangolo.com/tutorial/security/simple-oauth2/',\n",
       " 'https://fastapi.tiangolo.com/tutorial/sql-databases/',\n",
       " 'https://fastapi.tiangolo.com/tutorial/static-files/',\n",
       " 'https://fastapi.tiangolo.com/tutorial/testing/']"
      ]
     },
     "execution_count": 3,
     "metadata": {},
     "output_type": "execute_result"
    }
   ],
   "execution_count": 3
  },
  {
   "metadata": {},
   "cell_type": "markdown",
   "source": "## Load Content of URLs",
   "id": "e8ef70c4ae7f35d3"
  },
  {
   "cell_type": "code",
   "id": "initial_id",
   "metadata": {
    "collapsed": true,
    "ExecuteTime": {
     "end_time": "2025-08-15T01:48:56.189885Z",
     "start_time": "2025-08-15T01:48:30.711858Z"
    }
   },
   "source": [
    "import bs4\n",
    "from langchain_community.document_loaders import WebBaseLoader\n",
    "\n",
    "bs4_strainer = bs4.SoupStrainer(class_=(\"md-content\"))\n",
    "loader = WebBaseLoader(\n",
    "    web_paths=urls_to_load,\n",
    "    bs_kwargs={\"parse_only\": bs4_strainer},\n",
    ")\n",
    "docs = loader.load()"
   ],
   "outputs": [
    {
     "name": "stderr",
     "output_type": "stream",
     "text": [
      "USER_AGENT environment variable not set, consider setting it to identify your requests.\n"
     ]
    }
   ],
   "execution_count": 4
  },
  {
   "metadata": {
    "ExecuteTime": {
     "end_time": "2025-08-15T01:48:56.220824Z",
     "start_time": "2025-08-15T01:48:56.206665Z"
    }
   },
   "cell_type": "code",
   "source": [
    "for i in range(len(docs)):\n",
    "    print(f\"Total characters: {len(docs[i].page_content)}\")"
   ],
   "id": "2264edc90a974ce2",
   "outputs": [
    {
     "name": "stdout",
     "output_type": "stream",
     "text": [
      "Total characters: 674\n",
      "Total characters: 10751\n",
      "Total characters: 5516\n",
      "Total characters: 9209\n",
      "Total characters: 4353\n",
      "Total characters: 11530\n",
      "Total characters: 14585\n",
      "Total characters: 5578\n",
      "Total characters: 9841\n",
      "Total characters: 14593\n",
      "Total characters: 4040\n",
      "Total characters: 12133\n",
      "Total characters: 3117\n",
      "Total characters: 12194\n",
      "Total characters: 1793\n",
      "Total characters: 2542\n",
      "Total characters: 3513\n",
      "Total characters: 2351\n",
      "Total characters: 582\n",
      "Total characters: 12940\n",
      "Total characters: 270213\n",
      "Total characters: 14267\n",
      "Total characters: 3181\n",
      "Total characters: 3734\n",
      "Total characters: 10078\n",
      "Total characters: 788\n",
      "Total characters: 1088\n",
      "Total characters: 2276\n",
      "Total characters: 28049\n",
      "Total characters: 1295\n",
      "Total characters: 4850\n",
      "Total characters: 9423\n",
      "Total characters: 23812\n",
      "Total characters: 8239\n",
      "Total characters: 17301\n",
      "Total characters: 19557\n",
      "Total characters: 16247\n",
      "Total characters: 9947\n",
      "Total characters: 6397\n",
      "Total characters: 3481\n",
      "Total characters: 5121\n",
      "Total characters: 2230\n",
      "Total characters: 17539\n",
      "Total characters: 28430\n",
      "Total characters: 10373\n",
      "Total characters: 21193\n",
      "Total characters: 3219\n",
      "Total characters: 11528\n",
      "Total characters: 2359\n",
      "Total characters: 10481\n",
      "Total characters: 12172\n",
      "Total characters: 9861\n",
      "Total characters: 12918\n",
      "Total characters: 10705\n",
      "Total characters: 8552\n",
      "Total characters: 7629\n",
      "Total characters: 3990\n",
      "Total characters: 12337\n",
      "Total characters: 16653\n",
      "Total characters: 10653\n",
      "Total characters: 8049\n",
      "Total characters: 49313\n",
      "Total characters: 7270\n",
      "Total characters: 20493\n",
      "Total characters: 3613\n",
      "Total characters: 3610\n",
      "Total characters: 3657\n",
      "Total characters: 31314\n",
      "Total characters: 3713\n",
      "Total characters: 27172\n",
      "Total characters: 4265\n",
      "Total characters: 10574\n",
      "Total characters: 24951\n",
      "Total characters: 94093\n",
      "Total characters: 72568\n",
      "Total characters: 277668\n",
      "Total characters: 1634\n",
      "Total characters: 13245\n"
     ]
    }
   ],
   "execution_count": 5
  },
  {
   "metadata": {
    "ExecuteTime": {
     "end_time": "2025-08-15T01:48:56.252103Z",
     "start_time": "2025-08-15T01:48:56.237029Z"
    }
   },
   "cell_type": "code",
   "source": "len(docs)",
   "id": "7ac61123244e7de0",
   "outputs": [
    {
     "data": {
      "text/plain": [
       "78"
      ]
     },
     "execution_count": 6,
     "metadata": {},
     "output_type": "execute_result"
    }
   ],
   "execution_count": 6
  },
  {
   "metadata": {},
   "cell_type": "markdown",
   "source": "## Indexing Data",
   "id": "1cef967d7cea53ca"
  },
  {
   "metadata": {},
   "cell_type": "markdown",
   "source": "### Splitting in Chunks",
   "id": "fc858bc79263c443"
  },
  {
   "metadata": {
    "ExecuteTime": {
     "end_time": "2025-08-15T01:48:56.315013Z",
     "start_time": "2025-08-15T01:48:56.269297Z"
    }
   },
   "cell_type": "code",
   "source": [
    "from langchain_text_splitters import RecursiveCharacterTextSplitter\n",
    "\n",
    "splitter = RecursiveCharacterTextSplitter(\n",
    "    chunk_size=1000,\n",
    "    chunk_overlap=200,\n",
    "    add_start_index=True\n",
    ")\n",
    "split_docs = splitter.split_documents(docs)\n",
    "len(split_docs)"
   ],
   "id": "f77e689c7b5c1510",
   "outputs": [
    {
     "data": {
      "text/plain": [
       "1949"
      ]
     },
     "execution_count": 7,
     "metadata": {},
     "output_type": "execute_result"
    }
   ],
   "execution_count": 7
  },
  {
   "metadata": {},
   "cell_type": "markdown",
   "source": "### Embedding Model",
   "id": "ef9685e782b7dfef"
  },
  {
   "metadata": {
    "ExecuteTime": {
     "end_time": "2025-08-15T01:48:57.013561Z",
     "start_time": "2025-08-15T01:48:56.331402Z"
    }
   },
   "cell_type": "code",
   "source": [
    "from langchain_google_genai.embeddings import GoogleGenerativeAIEmbeddings\n",
    "\n",
    "llm_embeddings = GoogleGenerativeAIEmbeddings(model='models/gemini-embedding-001')"
   ],
   "id": "379c6260fd8443e8",
   "outputs": [],
   "execution_count": 8
  },
  {
   "metadata": {},
   "cell_type": "markdown",
   "source": "### Vector Store",
   "id": "feaf58cf1c60e641"
  },
  {
   "metadata": {
    "ExecuteTime": {
     "end_time": "2025-08-15T01:48:58.503217Z",
     "start_time": "2025-08-15T01:48:57.030883Z"
    }
   },
   "cell_type": "code",
   "source": [
    "from langchain_chroma import Chroma\n",
    "\n",
    "vector_store = Chroma(\n",
    "    collection_name=\"fastapi_docs\",\n",
    "    embedding_function=llm_embeddings,\n",
    "    persist_directory=\"./chroma_fastapi_db\",\n",
    ")"
   ],
   "id": "295ec7146db7fb8a",
   "outputs": [],
   "execution_count": 9
  },
  {
   "metadata": {
    "ExecuteTime": {
     "end_time": "2025-08-15T02:49:00.082848Z",
     "start_time": "2025-08-15T01:48:58.519415Z"
    }
   },
   "cell_type": "code",
   "source": [
    "import time\n",
    "\n",
    "def add_documents_in_batches(vector_store, documents, batch_size=100, delay_seconds=20):\n",
    "    \"\"\"\n",
    "    Adiciona documentos ao vector_store em lotes para evitar erros de limite de taxa.\n",
    "    \"\"\"\n",
    "    for i in range(0, len(documents), batch_size):\n",
    "        batch = documents[i:i + batch_size]\n",
    "\n",
    "        print(f\"Processando lote de {i} a {i + len(batch)}...\")\n",
    "\n",
    "        vector_store.add_documents(batch)\n",
    "\n",
    "        print(f\"Lote processado. Aguardando {delay_seconds} segundos...\")\n",
    "\n",
    "        # Pausa a execução para respeitar o limite da API\n",
    "        time.sleep(delay_seconds)\n",
    "\n",
    "try:\n",
    "    add_documents_in_batches(vector_store, split_docs, 20, 35)\n",
    "    print(\"Todos os documentos foram adicionados com sucesso!\")\n",
    "except Exception as e:\n",
    "    print(f\"Ocorreu um erro durante o processamento: {e}\")"
   ],
   "id": "5c2f6ad1751413cc",
   "outputs": [
    {
     "name": "stdout",
     "output_type": "stream",
     "text": [
      "Processando lote de 0 a 20...\n",
      "Lote processado. Aguardando 35 segundos...\n",
      "Processando lote de 20 a 40...\n",
      "Lote processado. Aguardando 35 segundos...\n",
      "Processando lote de 40 a 60...\n",
      "Lote processado. Aguardando 35 segundos...\n",
      "Processando lote de 60 a 80...\n",
      "Lote processado. Aguardando 35 segundos...\n",
      "Processando lote de 80 a 100...\n",
      "Lote processado. Aguardando 35 segundos...\n",
      "Processando lote de 100 a 120...\n",
      "Lote processado. Aguardando 35 segundos...\n",
      "Processando lote de 120 a 140...\n",
      "Lote processado. Aguardando 35 segundos...\n",
      "Processando lote de 140 a 160...\n",
      "Lote processado. Aguardando 35 segundos...\n",
      "Processando lote de 160 a 180...\n",
      "Lote processado. Aguardando 35 segundos...\n",
      "Processando lote de 180 a 200...\n",
      "Lote processado. Aguardando 35 segundos...\n",
      "Processando lote de 200 a 220...\n",
      "Lote processado. Aguardando 35 segundos...\n",
      "Processando lote de 220 a 240...\n",
      "Lote processado. Aguardando 35 segundos...\n",
      "Processando lote de 240 a 260...\n",
      "Lote processado. Aguardando 35 segundos...\n",
      "Processando lote de 260 a 280...\n",
      "Lote processado. Aguardando 35 segundos...\n",
      "Processando lote de 280 a 300...\n",
      "Lote processado. Aguardando 35 segundos...\n",
      "Processando lote de 300 a 320...\n",
      "Lote processado. Aguardando 35 segundos...\n",
      "Processando lote de 320 a 340...\n",
      "Lote processado. Aguardando 35 segundos...\n",
      "Processando lote de 340 a 360...\n",
      "Lote processado. Aguardando 35 segundos...\n",
      "Processando lote de 360 a 380...\n",
      "Lote processado. Aguardando 35 segundos...\n",
      "Processando lote de 380 a 400...\n",
      "Lote processado. Aguardando 35 segundos...\n",
      "Processando lote de 400 a 420...\n",
      "Lote processado. Aguardando 35 segundos...\n",
      "Processando lote de 420 a 440...\n",
      "Lote processado. Aguardando 35 segundos...\n",
      "Processando lote de 440 a 460...\n",
      "Lote processado. Aguardando 35 segundos...\n",
      "Processando lote de 460 a 480...\n",
      "Lote processado. Aguardando 35 segundos...\n",
      "Processando lote de 480 a 500...\n",
      "Lote processado. Aguardando 35 segundos...\n",
      "Processando lote de 500 a 520...\n",
      "Lote processado. Aguardando 35 segundos...\n",
      "Processando lote de 520 a 540...\n",
      "Lote processado. Aguardando 35 segundos...\n",
      "Processando lote de 540 a 560...\n",
      "Lote processado. Aguardando 35 segundos...\n",
      "Processando lote de 560 a 580...\n",
      "Lote processado. Aguardando 35 segundos...\n",
      "Processando lote de 580 a 600...\n",
      "Lote processado. Aguardando 35 segundos...\n",
      "Processando lote de 600 a 620...\n",
      "Lote processado. Aguardando 35 segundos...\n",
      "Processando lote de 620 a 640...\n",
      "Lote processado. Aguardando 35 segundos...\n",
      "Processando lote de 640 a 660...\n",
      "Lote processado. Aguardando 35 segundos...\n",
      "Processando lote de 660 a 680...\n",
      "Lote processado. Aguardando 35 segundos...\n",
      "Processando lote de 680 a 700...\n",
      "Lote processado. Aguardando 35 segundos...\n",
      "Processando lote de 700 a 720...\n",
      "Lote processado. Aguardando 35 segundos...\n",
      "Processando lote de 720 a 740...\n",
      "Lote processado. Aguardando 35 segundos...\n",
      "Processando lote de 740 a 760...\n",
      "Lote processado. Aguardando 35 segundos...\n",
      "Processando lote de 760 a 780...\n",
      "Lote processado. Aguardando 35 segundos...\n",
      "Processando lote de 780 a 800...\n",
      "Lote processado. Aguardando 35 segundos...\n",
      "Processando lote de 800 a 820...\n",
      "Lote processado. Aguardando 35 segundos...\n",
      "Processando lote de 820 a 840...\n",
      "Lote processado. Aguardando 35 segundos...\n",
      "Processando lote de 840 a 860...\n",
      "Lote processado. Aguardando 35 segundos...\n",
      "Processando lote de 860 a 880...\n",
      "Lote processado. Aguardando 35 segundos...\n",
      "Processando lote de 880 a 900...\n",
      "Lote processado. Aguardando 35 segundos...\n",
      "Processando lote de 900 a 920...\n",
      "Lote processado. Aguardando 35 segundos...\n",
      "Processando lote de 920 a 940...\n",
      "Lote processado. Aguardando 35 segundos...\n",
      "Processando lote de 940 a 960...\n",
      "Lote processado. Aguardando 35 segundos...\n",
      "Processando lote de 960 a 980...\n",
      "Lote processado. Aguardando 35 segundos...\n",
      "Processando lote de 980 a 1000...\n",
      "Lote processado. Aguardando 35 segundos...\n",
      "Processando lote de 1000 a 1020...\n",
      "Lote processado. Aguardando 35 segundos...\n",
      "Processando lote de 1020 a 1040...\n",
      "Lote processado. Aguardando 35 segundos...\n",
      "Processando lote de 1040 a 1060...\n",
      "Lote processado. Aguardando 35 segundos...\n",
      "Processando lote de 1060 a 1080...\n",
      "Lote processado. Aguardando 35 segundos...\n",
      "Processando lote de 1080 a 1100...\n",
      "Lote processado. Aguardando 35 segundos...\n",
      "Processando lote de 1100 a 1120...\n",
      "Lote processado. Aguardando 35 segundos...\n",
      "Processando lote de 1120 a 1140...\n",
      "Lote processado. Aguardando 35 segundos...\n",
      "Processando lote de 1140 a 1160...\n",
      "Lote processado. Aguardando 35 segundos...\n",
      "Processando lote de 1160 a 1180...\n",
      "Lote processado. Aguardando 35 segundos...\n",
      "Processando lote de 1180 a 1200...\n",
      "Lote processado. Aguardando 35 segundos...\n",
      "Processando lote de 1200 a 1220...\n",
      "Lote processado. Aguardando 35 segundos...\n",
      "Processando lote de 1220 a 1240...\n",
      "Lote processado. Aguardando 35 segundos...\n",
      "Processando lote de 1240 a 1260...\n",
      "Lote processado. Aguardando 35 segundos...\n",
      "Processando lote de 1260 a 1280...\n",
      "Lote processado. Aguardando 35 segundos...\n",
      "Processando lote de 1280 a 1300...\n",
      "Lote processado. Aguardando 35 segundos...\n",
      "Processando lote de 1300 a 1320...\n",
      "Lote processado. Aguardando 35 segundos...\n",
      "Processando lote de 1320 a 1340...\n",
      "Lote processado. Aguardando 35 segundos...\n",
      "Processando lote de 1340 a 1360...\n",
      "Lote processado. Aguardando 35 segundos...\n",
      "Processando lote de 1360 a 1380...\n",
      "Lote processado. Aguardando 35 segundos...\n",
      "Processando lote de 1380 a 1400...\n",
      "Lote processado. Aguardando 35 segundos...\n",
      "Processando lote de 1400 a 1420...\n",
      "Lote processado. Aguardando 35 segundos...\n",
      "Processando lote de 1420 a 1440...\n",
      "Lote processado. Aguardando 35 segundos...\n",
      "Processando lote de 1440 a 1460...\n",
      "Lote processado. Aguardando 35 segundos...\n",
      "Processando lote de 1460 a 1480...\n",
      "Lote processado. Aguardando 35 segundos...\n",
      "Processando lote de 1480 a 1500...\n",
      "Lote processado. Aguardando 35 segundos...\n",
      "Processando lote de 1500 a 1520...\n",
      "Lote processado. Aguardando 35 segundos...\n",
      "Processando lote de 1520 a 1540...\n",
      "Lote processado. Aguardando 35 segundos...\n",
      "Processando lote de 1540 a 1560...\n",
      "Lote processado. Aguardando 35 segundos...\n",
      "Processando lote de 1560 a 1580...\n",
      "Lote processado. Aguardando 35 segundos...\n",
      "Processando lote de 1580 a 1600...\n",
      "Lote processado. Aguardando 35 segundos...\n",
      "Processando lote de 1600 a 1620...\n",
      "Lote processado. Aguardando 35 segundos...\n",
      "Processando lote de 1620 a 1640...\n",
      "Lote processado. Aguardando 35 segundos...\n",
      "Processando lote de 1640 a 1660...\n",
      "Lote processado. Aguardando 35 segundos...\n",
      "Processando lote de 1660 a 1680...\n",
      "Lote processado. Aguardando 35 segundos...\n",
      "Processando lote de 1680 a 1700...\n",
      "Lote processado. Aguardando 35 segundos...\n",
      "Processando lote de 1700 a 1720...\n",
      "Lote processado. Aguardando 35 segundos...\n",
      "Processando lote de 1720 a 1740...\n",
      "Lote processado. Aguardando 35 segundos...\n",
      "Processando lote de 1740 a 1760...\n",
      "Lote processado. Aguardando 35 segundos...\n",
      "Processando lote de 1760 a 1780...\n",
      "Lote processado. Aguardando 35 segundos...\n",
      "Processando lote de 1780 a 1800...\n",
      "Lote processado. Aguardando 35 segundos...\n",
      "Processando lote de 1800 a 1820...\n",
      "Lote processado. Aguardando 35 segundos...\n",
      "Processando lote de 1820 a 1840...\n",
      "Lote processado. Aguardando 35 segundos...\n",
      "Processando lote de 1840 a 1860...\n",
      "Lote processado. Aguardando 35 segundos...\n",
      "Processando lote de 1860 a 1880...\n",
      "Lote processado. Aguardando 35 segundos...\n",
      "Processando lote de 1880 a 1900...\n",
      "Lote processado. Aguardando 35 segundos...\n",
      "Processando lote de 1900 a 1920...\n",
      "Lote processado. Aguardando 35 segundos...\n",
      "Processando lote de 1920 a 1940...\n",
      "Lote processado. Aguardando 35 segundos...\n",
      "Processando lote de 1940 a 1949...\n",
      "Lote processado. Aguardando 35 segundos...\n",
      "Todos os documentos foram adicionados com sucesso!\n"
     ]
    }
   ],
   "execution_count": 10
  },
  {
   "metadata": {},
   "cell_type": "markdown",
   "source": "## ChatModel",
   "id": "56796df07b258d7c"
  },
  {
   "metadata": {
    "ExecuteTime": {
     "end_time": "2025-08-15T02:55:01.380946Z",
     "start_time": "2025-08-15T02:55:01.367903Z"
    }
   },
   "cell_type": "code",
   "source": [
    "from langchain.chat_models import init_chat_model\n",
    "\n",
    "llm_flash = init_chat_model(\"gemini-2.5-flash\", model_provider=\"google_genai\")\n",
    "llm_pro = init_chat_model(\"gemini-2.5-pro\", model_provider=\"google_genai\")"
   ],
   "id": "6fcd386faac73bdf",
   "outputs": [],
   "execution_count": 21
  },
  {
   "metadata": {},
   "cell_type": "markdown",
   "source": "## Retrieval Chain",
   "id": "63490845069ac87f"
  },
  {
   "metadata": {},
   "cell_type": "markdown",
   "source": "### Gemini Flash",
   "id": "1d20441efe1d0e0c"
  },
  {
   "metadata": {
    "ExecuteTime": {
     "end_time": "2025-08-15T02:55:51.221113Z",
     "start_time": "2025-08-15T02:55:44.978155Z"
    }
   },
   "cell_type": "code",
   "source": [
    "from langchain.chains.retrieval_qa.base import RetrievalQA\n",
    "\n",
    "qa_chain_flash = RetrievalQA.from_chain_type(llm_flash, retriever=vector_store.as_retriever())\n",
    "\n",
    "pergunta = \"How can i add security, authentication and authorization in my API?\"\n",
    "resultado = qa_chain_flash.invoke({ \"query\" : pergunta})\n",
    "print(resultado)"
   ],
   "id": "d3e78d0104517fab",
   "outputs": [
    {
     "name": "stdout",
     "output_type": "stream",
     "text": [
      "{'query': 'How can i add security, authentication and authorization in my API?', 'result': 'FastAPI provides several tools to help you deal with Security easily, rapidly, and in a standard way.\\n\\nHere are some of the ways to handle security, authentication, and authorization mentioned:\\n\\n*   **OAuth2**: A specification defining several ways to handle authentication and authorization. It includes various \"flows,\" with the `password` flow being perfectly suitable for handling authentication directly within the same application.\\n*   **apiKey**: An application-specific key that can be passed from:\\n    *   A query parameter\\n    *   A header\\n    *   A cookie\\n*   **http**: Standard HTTP authentication systems, including:\\n    *   `bearer`: A `Authorization` header with a value of `Bearer` plus a token (inherited from OAuth2).\\n    *   HTTP Basic authentication.\\n    *   HTTP Digest, etc.\\n*   **openIdConnect**: A way to define how to discover OAuth2 authentication data automatically.\\n\\nThe context also mentions that if you need to add security with authentication based on username and password right now, you should skip to the next chapters, as \"some next chapters will cover examples of this\" (referring to the OAuth2 `password` flow).'}\n"
     ]
    }
   ],
   "execution_count": 23
  },
  {
   "metadata": {},
   "cell_type": "markdown",
   "source": "### Gemini Pro",
   "id": "8e1f1af804e3c2cf"
  },
  {
   "metadata": {
    "ExecuteTime": {
     "end_time": "2025-08-15T02:56:03.434143Z",
     "start_time": "2025-08-15T02:55:51.297371Z"
    }
   },
   "cell_type": "code",
   "source": [
    "from langchain.chains.retrieval_qa.base import RetrievalQA\n",
    "\n",
    "qa_chain_pro = RetrievalQA.from_chain_type(llm_pro, retriever=vector_store.as_retriever())\n",
    "\n",
    "pergunta = \"How can i add security, authentication and authorization in my API?\"\n",
    "resultado = qa_chain_pro.invoke({ \"query\" : pergunta})\n",
    "print(resultado)"
   ],
   "id": "8ed95e785a009ec3",
   "outputs": [
    {
     "name": "stdout",
     "output_type": "stream",
     "text": [
      "{'query': 'How can i add security, authentication and authorization in my API?', 'result': 'Based on the provided context, FastAPI offers several tools to help you add security, authentication, and authorization in a standard way. Here\\'s a summary of the approaches mentioned:\\n\\n*   **OAuth2:** This is a specification for handling authentication and authorization. FastAPI can integrate with it, particularly using the `password` \"flow,\" which is well-suited for handling authentication with a username and password directly within your application.\\n*   **apiKey:** You can use an application-specific key that can be sent in a query parameter, a header, or a cookie.\\n*   **http:** FastAPI supports standard HTTP authentication systems, including:\\n    *   **bearer:** Using an `Authorization` header with a `Bearer` token.\\n    *   **HTTP Basic authentication.**\\n*   **OpenID Connect:** This can be used to automatically discover OAuth2 authentication data.\\n\\nThe context suggests that if you need to quickly add security with a username and password, you should look at the chapters following this introduction for specific examples.'}\n"
     ]
    }
   ],
   "execution_count": 24
  }
 ],
 "metadata": {
  "kernelspec": {
   "display_name": "Python 3",
   "language": "python",
   "name": "python3"
  },
  "language_info": {
   "codemirror_mode": {
    "name": "ipython",
    "version": 2
   },
   "file_extension": ".py",
   "mimetype": "text/x-python",
   "name": "python",
   "nbconvert_exporter": "python",
   "pygments_lexer": "ipython2",
   "version": "2.7.6"
  }
 },
 "nbformat": 4,
 "nbformat_minor": 5
}
