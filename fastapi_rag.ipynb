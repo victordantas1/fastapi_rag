{
 "cells": [
  {
   "metadata": {},
   "cell_type": "markdown",
   "source": "# FastAPI Docs RAG",
   "id": "25ef4a940809e04b"
  },
  {
   "metadata": {
    "ExecuteTime": {
     "end_time": "2025-08-15T01:26:04.578541Z",
     "start_time": "2025-08-15T01:26:04.554763Z"
    }
   },
   "cell_type": "code",
   "source": [
    "from dotenv import load_dotenv\n",
    "\n",
    "load_dotenv()"
   ],
   "id": "fe24831d74594d7e",
   "outputs": [
    {
     "data": {
      "text/plain": [
       "True"
      ]
     },
     "execution_count": 1,
     "metadata": {},
     "output_type": "execute_result"
    }
   ],
   "execution_count": 1
  },
  {
   "metadata": {},
   "cell_type": "markdown",
   "source": "## Get all Tutorials URLs from FastAPI Learn",
   "id": "726e1969b6104032"
  },
  {
   "metadata": {
    "ExecuteTime": {
     "end_time": "2025-08-15T01:27:59.955915Z",
     "start_time": "2025-08-15T01:27:59.942882Z"
    }
   },
   "cell_type": "code",
   "source": [
    "import requests\n",
    "from bs4 import BeautifulSoup\n",
    "from urllib.parse import urljoin\n",
    "\n",
    "def get_fastapi_docs_urls_requests():\n",
    "    base_url = \"https://fastapi.tiangolo.com/learn/\"\n",
    "    print(\"Carregando a página com a biblioteca 'requests'...\")\n",
    "    try:\n",
    "        response = requests.get(base_url, headers={'User-Agent': 'Mozilla/5.0'})\n",
    "        response.raise_for_status()\n",
    "        soup = BeautifulSoup(response.text, 'lxml')\n",
    "    except requests.exceptions.RequestException as e:\n",
    "        print(f\"Erro ao carregar a página: {e}\")\n",
    "        return []\n",
    "\n",
    "    # Encontra o menu de navegação principal\n",
    "    nav_container = soup.find(\"nav\", {\"class\": \"md-nav--primary\"})\n",
    "    if not nav_container:\n",
    "        print(\"Falha: Menu de navegação primário não encontrado.\")\n",
    "        return []\n",
    "\n",
    "    urls = set() # Usar um set para evitar duplicatas automaticamente\n",
    "\n",
    "    # Itera sobre todas as seções do tutorial e guia avançado\n",
    "    sections_to_find = [\"Tutorial - User Guide\", \"Advanced User Guide\"]\n",
    "    for section_text in sections_to_find:\n",
    "        span = nav_container.find(\"span\", class_=\"md-ellipsis\", string=lambda t: t and section_text in t.strip())\n",
    "        if span:\n",
    "            # Navega até o <li> pai e encontra todos os links dentro dele\n",
    "            container = span.find_parent('li')\n",
    "            if container:\n",
    "                for item in container.find_all(\"a\", class_=\"md-nav__link\"):\n",
    "                    href = item.get(\"href\")\n",
    "                    if href:\n",
    "                        full_url = urljoin(\"https://fastapi.tiangolo.com/\", href)\n",
    "                        urls.add(full_url)\n",
    "\n",
    "    unique_urls = sorted(list(urls)) # Converte para lista e ordena\n",
    "    print(f\"Encontradas {len(unique_urls)} URLs únicas para carregar.\")\n",
    "    return unique_urls"
   ],
   "id": "57912c218007991c",
   "outputs": [],
   "execution_count": 4
  },
  {
   "metadata": {
    "ExecuteTime": {
     "end_time": "2025-08-15T01:28:01.217948Z",
     "start_time": "2025-08-15T01:28:00.674638Z"
    }
   },
   "cell_type": "code",
   "source": [
    "urls_to_load = get_fastapi_docs_urls_requests()\n",
    "urls_to_load"
   ],
   "id": "ed0e502b4820c44a",
   "outputs": [
    {
     "name": "stdout",
     "output_type": "stream",
     "text": [
      "Carregando a página com a biblioteca 'requests'...\n",
      "Encontradas 78 URLs únicas para carregar.\n"
     ]
    },
    {
     "data": {
      "text/plain": [
       "['https://fastapi.tiangolo.com/advanced/',\n",
       " 'https://fastapi.tiangolo.com/advanced/additional-responses/',\n",
       " 'https://fastapi.tiangolo.com/advanced/additional-status-codes/',\n",
       " 'https://fastapi.tiangolo.com/advanced/advanced-dependencies/',\n",
       " 'https://fastapi.tiangolo.com/advanced/async-tests/',\n",
       " 'https://fastapi.tiangolo.com/advanced/behind-a-proxy/',\n",
       " 'https://fastapi.tiangolo.com/advanced/custom-response/',\n",
       " 'https://fastapi.tiangolo.com/advanced/dataclasses/',\n",
       " 'https://fastapi.tiangolo.com/advanced/events/',\n",
       " 'https://fastapi.tiangolo.com/advanced/generate-clients/',\n",
       " 'https://fastapi.tiangolo.com/advanced/middleware/',\n",
       " 'https://fastapi.tiangolo.com/advanced/openapi-callbacks/',\n",
       " 'https://fastapi.tiangolo.com/advanced/openapi-webhooks/',\n",
       " 'https://fastapi.tiangolo.com/advanced/path-operation-advanced-configuration/',\n",
       " 'https://fastapi.tiangolo.com/advanced/response-change-status-code/',\n",
       " 'https://fastapi.tiangolo.com/advanced/response-cookies/',\n",
       " 'https://fastapi.tiangolo.com/advanced/response-directly/',\n",
       " 'https://fastapi.tiangolo.com/advanced/response-headers/',\n",
       " 'https://fastapi.tiangolo.com/advanced/security/',\n",
       " 'https://fastapi.tiangolo.com/advanced/security/http-basic-auth/',\n",
       " 'https://fastapi.tiangolo.com/advanced/security/oauth2-scopes/',\n",
       " 'https://fastapi.tiangolo.com/advanced/settings/',\n",
       " 'https://fastapi.tiangolo.com/advanced/sub-applications/',\n",
       " 'https://fastapi.tiangolo.com/advanced/templates/',\n",
       " 'https://fastapi.tiangolo.com/advanced/testing-dependencies/',\n",
       " 'https://fastapi.tiangolo.com/advanced/testing-events/',\n",
       " 'https://fastapi.tiangolo.com/advanced/testing-websockets/',\n",
       " 'https://fastapi.tiangolo.com/advanced/using-request-directly/',\n",
       " 'https://fastapi.tiangolo.com/advanced/websockets/',\n",
       " 'https://fastapi.tiangolo.com/advanced/wsgi/',\n",
       " 'https://fastapi.tiangolo.com/tutorial/',\n",
       " 'https://fastapi.tiangolo.com/tutorial/background-tasks/',\n",
       " 'https://fastapi.tiangolo.com/tutorial/bigger-applications/',\n",
       " 'https://fastapi.tiangolo.com/tutorial/body-fields/',\n",
       " 'https://fastapi.tiangolo.com/tutorial/body-multiple-params/',\n",
       " 'https://fastapi.tiangolo.com/tutorial/body-nested-models/',\n",
       " 'https://fastapi.tiangolo.com/tutorial/body-updates/',\n",
       " 'https://fastapi.tiangolo.com/tutorial/body/',\n",
       " 'https://fastapi.tiangolo.com/tutorial/cookie-param-models/',\n",
       " 'https://fastapi.tiangolo.com/tutorial/cookie-params/',\n",
       " 'https://fastapi.tiangolo.com/tutorial/cors/',\n",
       " 'https://fastapi.tiangolo.com/tutorial/debugging/',\n",
       " 'https://fastapi.tiangolo.com/tutorial/dependencies/',\n",
       " 'https://fastapi.tiangolo.com/tutorial/dependencies/classes-as-dependencies/',\n",
       " 'https://fastapi.tiangolo.com/tutorial/dependencies/dependencies-in-path-operation-decorators/',\n",
       " 'https://fastapi.tiangolo.com/tutorial/dependencies/dependencies-with-yield/',\n",
       " 'https://fastapi.tiangolo.com/tutorial/dependencies/global-dependencies/',\n",
       " 'https://fastapi.tiangolo.com/tutorial/dependencies/sub-dependencies/',\n",
       " 'https://fastapi.tiangolo.com/tutorial/encoder/',\n",
       " 'https://fastapi.tiangolo.com/tutorial/extra-data-types/',\n",
       " 'https://fastapi.tiangolo.com/tutorial/extra-models/',\n",
       " 'https://fastapi.tiangolo.com/tutorial/first-steps/',\n",
       " 'https://fastapi.tiangolo.com/tutorial/handling-errors/',\n",
       " 'https://fastapi.tiangolo.com/tutorial/header-param-models/',\n",
       " 'https://fastapi.tiangolo.com/tutorial/header-params/',\n",
       " 'https://fastapi.tiangolo.com/tutorial/metadata/',\n",
       " 'https://fastapi.tiangolo.com/tutorial/middleware/',\n",
       " 'https://fastapi.tiangolo.com/tutorial/path-operation-configuration/',\n",
       " 'https://fastapi.tiangolo.com/tutorial/path-params-numeric-validations/',\n",
       " 'https://fastapi.tiangolo.com/tutorial/path-params/',\n",
       " 'https://fastapi.tiangolo.com/tutorial/query-param-models/',\n",
       " 'https://fastapi.tiangolo.com/tutorial/query-params-str-validations/',\n",
       " 'https://fastapi.tiangolo.com/tutorial/query-params/',\n",
       " 'https://fastapi.tiangolo.com/tutorial/request-files/',\n",
       " 'https://fastapi.tiangolo.com/tutorial/request-form-models/',\n",
       " 'https://fastapi.tiangolo.com/tutorial/request-forms-and-files/',\n",
       " 'https://fastapi.tiangolo.com/tutorial/request-forms/',\n",
       " 'https://fastapi.tiangolo.com/tutorial/response-model/',\n",
       " 'https://fastapi.tiangolo.com/tutorial/response-status-code/',\n",
       " 'https://fastapi.tiangolo.com/tutorial/schema-extra-example/',\n",
       " 'https://fastapi.tiangolo.com/tutorial/security/',\n",
       " 'https://fastapi.tiangolo.com/tutorial/security/first-steps/',\n",
       " 'https://fastapi.tiangolo.com/tutorial/security/get-current-user/',\n",
       " 'https://fastapi.tiangolo.com/tutorial/security/oauth2-jwt/',\n",
       " 'https://fastapi.tiangolo.com/tutorial/security/simple-oauth2/',\n",
       " 'https://fastapi.tiangolo.com/tutorial/sql-databases/',\n",
       " 'https://fastapi.tiangolo.com/tutorial/static-files/',\n",
       " 'https://fastapi.tiangolo.com/tutorial/testing/']"
      ]
     },
     "execution_count": 5,
     "metadata": {},
     "output_type": "execute_result"
    }
   ],
   "execution_count": 5
  },
  {
   "metadata": {},
   "cell_type": "markdown",
   "source": "## Load Content of URLs",
   "id": "e8ef70c4ae7f35d3"
  },
  {
   "cell_type": "code",
   "id": "initial_id",
   "metadata": {
    "collapsed": true,
    "ExecuteTime": {
     "end_time": "2025-08-15T00:36:09.194510Z",
     "start_time": "2025-08-15T00:36:01.707096Z"
    }
   },
   "source": [
    "import bs4\n",
    "from langchain_community.document_loaders import WebBaseLoader\n",
    "\n",
    "bs4_strainer = bs4.SoupStrainer(class_=(\"md-content\"))\n",
    "loader = WebBaseLoader(\n",
    "    web_paths=urls_to_load,\n",
    "    bs_kwargs={\"parse_only\": bs4_strainer},\n",
    ")\n",
    "docs = loader.load()"
   ],
   "outputs": [
    {
     "name": "stderr",
     "output_type": "stream",
     "text": [
      "USER_AGENT environment variable not set, consider setting it to identify your requests.\n"
     ]
    }
   ],
   "execution_count": 4
  },
  {
   "metadata": {
    "ExecuteTime": {
     "end_time": "2025-08-15T00:36:09.225200Z",
     "start_time": "2025-08-15T00:36:09.210743Z"
    }
   },
   "cell_type": "code",
   "source": [
    "for i in range(len(docs)):\n",
    "    print(f\"Total characters: {len(docs[i].page_content)}\")"
   ],
   "id": "2264edc90a974ce2",
   "outputs": [
    {
     "name": "stdout",
     "output_type": "stream",
     "text": [
      "Total characters: 4850\n",
      "Total characters: 12194\n",
      "Total characters: 5516\n",
      "Total characters: 3513\n",
      "Total characters: 14585\n",
      "Total characters: 10751\n",
      "Total characters: 2542\n",
      "Total characters: 2351\n",
      "Total characters: 1793\n",
      "Total characters: 9209\n",
      "Total characters: 582\n",
      "Total characters: 270213\n",
      "Total characters: 12940\n",
      "Total characters: 2276\n",
      "Total characters: 5578\n",
      "Total characters: 4040\n",
      "Total characters: 3181\n",
      "Total characters: 11530\n",
      "Total characters: 3734\n",
      "Total characters: 28049\n",
      "Total characters: 9841\n",
      "Total characters: 1088\n",
      "Total characters: 788\n",
      "Total characters: 10078\n",
      "Total characters: 4353\n",
      "Total characters: 14267\n",
      "Total characters: 12133\n",
      "Total characters: 3117\n",
      "Total characters: 1295\n",
      "Total characters: 14593\n"
     ]
    }
   ],
   "execution_count": 5
  },
  {
   "metadata": {
    "ExecuteTime": {
     "end_time": "2025-08-15T00:36:09.256126Z",
     "start_time": "2025-08-15T00:36:09.241170Z"
    }
   },
   "cell_type": "code",
   "source": "docs[1].page_content",
   "id": "7ac61123244e7de0",
   "outputs": [
    {
     "data": {
      "text/plain": [
       "'\\n\\n\\n\\n\\n\\n    FastAPI\\n  \\n\\n\\n\\n\\n\\n    Learn\\n  \\n\\n\\n\\n\\n\\n    Advanced User Guide\\n  \\n\\n\\n\\n\\n\\nPath Operation Advanced Configuration¶\\nOpenAPI operationId¶\\n\\nWarning\\nIf you are not an \"expert\" in OpenAPI, you probably don\\'t need this.\\n\\nYou can set the OpenAPI operationId to be used in your path operation with the parameter operation_id.\\nYou would have to make sure that it is unique for each operation.\\nPython 3.8+\\n\\n\\nfrom fastapi import FastAPI\\n\\napp = FastAPI()\\n\\n\\n@app.get(\"/items/\", operation_id=\"some_specific_id_you_define\")\\nasync def read_items():\\n    return [{\"item_id\": \"Foo\"}]\\n\\n\\n\\n\\nUsing the path operation function name as the operationId¶\\nIf you want to use your APIs\\' function names as operationIds, you can iterate over all of them and override each path operation\\'s operation_id using their APIRoute.name.\\nYou should do it after adding all your path operations.\\nPython 3.8+\\n\\n\\nfrom fastapi import FastAPI\\nfrom fastapi.routing import APIRoute\\n\\napp = FastAPI()\\n\\n\\n@app.get(\"/items/\")\\nasync def read_items():\\n    return [{\"item_id\": \"Foo\"}]\\n\\n\\ndef use_route_names_as_operation_ids(app: FastAPI) -> None:\\n    \"\"\"\\n    Simplify operation IDs so that generated API clients have simpler function\\n    names.\\n\\n    Should be called only after all routes have been added.\\n    \"\"\"\\n    for route in app.routes:\\n        if isinstance(route, APIRoute):\\n            route.operation_id = route.name  # in this case, \\'read_items\\'\\n\\n\\nuse_route_names_as_operation_ids(app)\\n\\n\\n\\n\\n\\nTip\\nIf you manually call app.openapi(), you should update the operationIds before that.\\n\\n\\nWarning\\nIf you do this, you have to make sure each one of your path operation functions has a unique name.\\nEven if they are in different modules (Python files).\\n\\nExclude from OpenAPI¶\\nTo exclude a path operation from the generated OpenAPI schema (and thus, from the automatic documentation systems), use the parameter include_in_schema and set it to False:\\nPython 3.8+\\n\\n\\nfrom fastapi import FastAPI\\n\\napp = FastAPI()\\n\\n\\n@app.get(\"/items/\", include_in_schema=False)\\nasync def read_items():\\n    return [{\"item_id\": \"Foo\"}]\\n\\n\\n\\n\\nAdvanced description from docstring¶\\nYou can limit the lines used from the docstring of a path operation function for OpenAPI.\\nAdding an \\\\f (an escaped \"form feed\" character) causes FastAPI to truncate the output used for OpenAPI at this point.\\nIt won\\'t show up in the documentation, but other tools (such as Sphinx) will be able to use the rest.\\nPython 3.8+\\n\\n\\nfrom typing import Set, Union\\n\\nfrom fastapi import FastAPI\\nfrom pydantic import BaseModel\\n\\napp = FastAPI()\\n\\n\\nclass Item(BaseModel):\\n    name: str\\n    description: Union[str, None] = None\\n    price: float\\n    tax: Union[float, None] = None\\n    tags: Set[str] = set()\\n\\n\\n@app.post(\"/items/\", response_model=Item, summary=\"Create an item\")\\nasync def create_item(item: Item):\\n    \"\"\"\\n    Create an item with all the information:\\n\\n    - **name**: each item must have a name\\n    - **description**: a long description\\n    - **price**: required\\n    - **tax**: if the item doesn\\'t have tax, you can omit this\\n    - **tags**: a set of unique tag strings for this item\\n    \\\\f\\n    :param item: User input.\\n    \"\"\"\\n    return item\\n\\n\\n\\n\\nAdditional Responses¶\\nYou probably have seen how to declare the response_model and status_code for a path operation.\\nThat defines the metadata about the main response of a path operation.\\nYou can also declare additional responses with their models, status codes, etc.\\nThere\\'s a whole chapter here in the documentation about it, you can read it at Additional Responses in OpenAPI.\\nOpenAPI Extra¶\\nWhen you declare a path operation in your application, FastAPI automatically generates the relevant metadata about that path operation to be included in the OpenAPI schema.\\n\\nTechnical details\\nIn the OpenAPI specification it is called the Operation Object.\\n\\nIt has all the information about the path operation and is used to generate the automatic documentation.\\nIt includes the tags, parameters, requestBody, responses, etc.\\nThis path operation-specific OpenAPI schema is normally generated automatically by FastAPI, but you can also extend it.\\n\\nTip\\nThis is a low level extension point.\\nIf you only need to declare additional responses, a more convenient way to do it is with Additional Responses in OpenAPI.\\n\\nYou can extend the OpenAPI schema for a path operation using the parameter openapi_extra.\\nOpenAPI Extensions¶\\nThis openapi_extra can be helpful, for example, to declare OpenAPI Extensions:\\nPython 3.8+\\n\\n\\nfrom fastapi import FastAPI\\n\\napp = FastAPI()\\n\\n\\n@app.get(\"/items/\", openapi_extra={\"x-aperture-labs-portal\": \"blue\"})\\nasync def read_items():\\n    return [{\"item_id\": \"portal-gun\"}]\\n\\n\\n\\n\\nIf you open the automatic API docs, your extension will show up at the bottom of the specific path operation.\\n\\nAnd if you see the resulting OpenAPI (at /openapi.json in your API), you will see your extension as part of the specific path operation too:\\n{\\n    \"openapi\": \"3.1.0\",\\n    \"info\": {\\n        \"title\": \"FastAPI\",\\n        \"version\": \"0.1.0\"\\n    },\\n    \"paths\": {\\n        \"/items/\": {\\n            \"get\": {\\n                \"summary\": \"Read Items\",\\n                \"operationId\": \"read_items_items__get\",\\n                \"responses\": {\\n                    \"200\": {\\n                        \"description\": \"Successful Response\",\\n                        \"content\": {\\n                            \"application/json\": {\\n                                \"schema\": {}\\n                            }\\n                        }\\n                    }\\n                },\\n                \"x-aperture-labs-portal\": \"blue\"\\n            }\\n        }\\n    }\\n}\\n\\nCustom OpenAPI path operation schema¶\\nThe dictionary in openapi_extra will be deeply merged with the automatically generated OpenAPI schema for the path operation.\\nSo, you could add additional data to the automatically generated schema.\\nFor example, you could decide to read and validate the request with your own code, without using the automatic features of FastAPI with Pydantic, but you could still want to define the request in the OpenAPI schema.\\nYou could do that with openapi_extra:\\nPython 3.8+\\n\\n\\nfrom fastapi import FastAPI, Request\\n\\napp = FastAPI()\\n\\n\\ndef magic_data_reader(raw_body: bytes):\\n    return {\\n        \"size\": len(raw_body),\\n        \"content\": {\\n            \"name\": \"Maaaagic\",\\n            \"price\": 42,\\n            \"description\": \"Just kiddin\\', no magic here. ✨\",\\n        },\\n    }\\n\\n\\n@app.post(\\n    \"/items/\",\\n    openapi_extra={\\n        \"requestBody\": {\\n            \"content\": {\\n                \"application/json\": {\\n                    \"schema\": {\\n                        \"required\": [\"name\", \"price\"],\\n                        \"type\": \"object\",\\n                        \"properties\": {\\n                            \"name\": {\"type\": \"string\"},\\n                            \"price\": {\"type\": \"number\"},\\n                            \"description\": {\"type\": \"string\"},\\n                        },\\n                    }\\n                }\\n            },\\n            \"required\": True,\\n        },\\n    },\\n)\\nasync def create_item(request: Request):\\n    raw_body = await request.body()\\n    data = magic_data_reader(raw_body)\\n    return data\\n\\n\\n\\n\\nIn this example, we didn\\'t declare any Pydantic model. In fact, the request body is not even parsed as JSON, it is read directly as bytes, and the function magic_data_reader() would be in charge of parsing it in some way.\\nNevertheless, we can declare the expected schema for the request body.\\nCustom OpenAPI content type¶\\nUsing this same trick, you could use a Pydantic model to define the JSON Schema that is then included in the custom OpenAPI schema section for the path operation.\\nAnd you could do this even if the data type in the request is not JSON.\\nFor example, in this application we don\\'t use FastAPI\\'s integrated functionality to extract the JSON Schema from Pydantic models nor the automatic validation for JSON. In fact, we are declaring the request content type as YAML, not JSON:\\nPydantic v2Pydantic v1\\n\\n\\nPython 3.8+\\n\\n\\nfrom typing import List\\n\\nimport yaml\\nfrom fastapi import FastAPI, HTTPException, Request\\nfrom pydantic import BaseModel, ValidationError\\n\\napp = FastAPI()\\n\\n\\nclass Item(BaseModel):\\n    name: str\\n    tags: List[str]\\n\\n\\n@app.post(\\n    \"/items/\",\\n    openapi_extra={\\n        \"requestBody\": {\\n            \"content\": {\"application/x-yaml\": {\"schema\": Item.model_json_schema()}},\\n            \"required\": True,\\n        },\\n    },\\n)\\nasync def create_item(request: Request):\\n    raw_body = await request.body()\\n    try:\\n        data = yaml.safe_load(raw_body)\\n    except yaml.YAMLError:\\n        raise HTTPException(status_code=422, detail=\"Invalid YAML\")\\n    try:\\n        item = Item.model_validate(data)\\n    except ValidationError as e:\\n        raise HTTPException(status_code=422, detail=e.errors(include_url=False))\\n    return item\\n\\n\\n\\n\\n\\n\\nPython 3.8+\\n\\n\\nfrom typing import List\\n\\nimport yaml\\nfrom fastapi import FastAPI, HTTPException, Request\\nfrom pydantic import BaseModel, ValidationError\\n\\napp = FastAPI()\\n\\n\\nclass Item(BaseModel):\\n    name: str\\n    tags: List[str]\\n\\n\\n@app.post(\\n    \"/items/\",\\n    openapi_extra={\\n        \"requestBody\": {\\n            \"content\": {\"application/x-yaml\": {\"schema\": Item.schema()}},\\n            \"required\": True,\\n        },\\n    },\\n)\\nasync def create_item(request: Request):\\n    raw_body = await request.body()\\n    try:\\n        data = yaml.safe_load(raw_body)\\n    except yaml.YAMLError:\\n        raise HTTPException(status_code=422, detail=\"Invalid YAML\")\\n    try:\\n        item = Item.parse_obj(data)\\n    except ValidationError as e:\\n        raise HTTPException(status_code=422, detail=e.errors())\\n    return item\\n\\n\\n\\n\\n\\n\\n\\n\\nInfo\\nIn Pydantic version 1 the method to get the JSON Schema for a model was called Item.schema(), in Pydantic version 2, the method is called Item.model_json_schema().\\n\\nNevertheless, although we are not using the default integrated functionality, we are still using a Pydantic model to manually generate the JSON Schema for the data that we want to receive in YAML.\\nThen we use the request directly, and extract the body as bytes. This means that FastAPI won\\'t even try to parse the request payload as JSON.\\nAnd then in our code, we parse that YAML content directly, and then we are again using the same Pydantic model to validate the YAML content:\\nPydantic v2Pydantic v1\\n\\n\\nPython 3.8+\\n\\n\\nfrom typing import List\\n\\nimport yaml\\nfrom fastapi import FastAPI, HTTPException, Request\\nfrom pydantic import BaseModel, ValidationError\\n\\napp = FastAPI()\\n\\n\\nclass Item(BaseModel):\\n    name: str\\n    tags: List[str]\\n\\n\\n@app.post(\\n    \"/items/\",\\n    openapi_extra={\\n        \"requestBody\": {\\n            \"content\": {\"application/x-yaml\": {\"schema\": Item.model_json_schema()}},\\n            \"required\": True,\\n        },\\n    },\\n)\\nasync def create_item(request: Request):\\n    raw_body = await request.body()\\n    try:\\n        data = yaml.safe_load(raw_body)\\n    except yaml.YAMLError:\\n        raise HTTPException(status_code=422, detail=\"Invalid YAML\")\\n    try:\\n        item = Item.model_validate(data)\\n    except ValidationError as e:\\n        raise HTTPException(status_code=422, detail=e.errors(include_url=False))\\n    return item\\n\\n\\n\\n\\n\\n\\nPython 3.8+\\n\\n\\nfrom typing import List\\n\\nimport yaml\\nfrom fastapi import FastAPI, HTTPException, Request\\nfrom pydantic import BaseModel, ValidationError\\n\\napp = FastAPI()\\n\\n\\nclass Item(BaseModel):\\n    name: str\\n    tags: List[str]\\n\\n\\n@app.post(\\n    \"/items/\",\\n    openapi_extra={\\n        \"requestBody\": {\\n            \"content\": {\"application/x-yaml\": {\"schema\": Item.schema()}},\\n            \"required\": True,\\n        },\\n    },\\n)\\nasync def create_item(request: Request):\\n    raw_body = await request.body()\\n    try:\\n        data = yaml.safe_load(raw_body)\\n    except yaml.YAMLError:\\n        raise HTTPException(status_code=422, detail=\"Invalid YAML\")\\n    try:\\n        item = Item.parse_obj(data)\\n    except ValidationError as e:\\n        raise HTTPException(status_code=422, detail=e.errors())\\n    return item\\n\\n\\n\\n\\n\\n\\n\\n\\nInfo\\nIn Pydantic version 1 the method to parse and validate an object was Item.parse_obj(), in Pydantic version 2, the method is called Item.model_validate().\\n\\n\\nTip\\nHere we reuse the same Pydantic model.\\nBut the same way, we could have validated it in some other way.\\n\\n\\n'"
      ]
     },
     "execution_count": 6,
     "metadata": {},
     "output_type": "execute_result"
    }
   ],
   "execution_count": 6
  },
  {
   "metadata": {},
   "cell_type": "markdown",
   "source": "## Indexing Data",
   "id": "1cef967d7cea53ca"
  },
  {
   "metadata": {},
   "cell_type": "markdown",
   "source": "### Splitting in Chunks",
   "id": "fc858bc79263c443"
  },
  {
   "metadata": {
    "ExecuteTime": {
     "end_time": "2025-08-15T00:36:09.302010Z",
     "start_time": "2025-08-15T00:36:09.272388Z"
    }
   },
   "cell_type": "code",
   "source": [
    "from langchain_text_splitters import RecursiveCharacterTextSplitter\n",
    "\n",
    "splitter = RecursiveCharacterTextSplitter(\n",
    "    chunk_size=1000,\n",
    "    chunk_overlap=200,\n",
    "    add_start_index=True\n",
    ")\n",
    "split_docs = splitter.split_documents(docs)\n",
    "split_docs[0]"
   ],
   "id": "f77e689c7b5c1510",
   "outputs": [
    {
     "data": {
      "text/plain": [
       "Document(metadata={'source': 'https://fastapi.tiangolo.com/tutorial/', 'start_index': 10}, page_content='FastAPI\\n  \\n\\n\\n\\n\\n\\n    Learn\\n  \\n\\n\\n\\n\\n\\n    Tutorial - User Guide\\n  \\n\\n\\n\\n\\n\\nTutorial - User Guide¶\\nThis tutorial shows you how to use FastAPI with most of its features, step by step.\\nEach section gradually builds on the previous ones, but it\\'s structured to separate topics, so that you can go directly to any specific one to solve your specific API needs.\\nIt is also built to work as a future reference so you can come back and see exactly what you need.\\nRun the code¶\\nAll the code blocks can be copied and used directly (they are actually tested Python files).\\nTo run any of the examples, copy the code to a file main.py, and start fastapi dev with:\\n\\n$ <font color=\"#4E9A06\">fastapi</font> dev <u style=\"text-decoration-style:solid\">main.py</u>\\n\\n  <span style=\"background-color:#009485\"><font color=\"#D3D7CF\"> FastAPI </font></span>  Starting development server 🚀')"
      ]
     },
     "execution_count": 7,
     "metadata": {},
     "output_type": "execute_result"
    }
   ],
   "execution_count": 7
  },
  {
   "metadata": {},
   "cell_type": "markdown",
   "source": "### Embedding Model",
   "id": "ef9685e782b7dfef"
  },
  {
   "metadata": {
    "ExecuteTime": {
     "end_time": "2025-08-15T00:36:10.065030Z",
     "start_time": "2025-08-15T00:36:09.319039Z"
    }
   },
   "cell_type": "code",
   "source": [
    "from langchain_google_genai.embeddings import GoogleGenerativeAIEmbeddings\n",
    "\n",
    "llm_embeddings = GoogleGenerativeAIEmbeddings(model='models/gemini-embedding-001')"
   ],
   "id": "379c6260fd8443e8",
   "outputs": [],
   "execution_count": 8
  },
  {
   "metadata": {},
   "cell_type": "markdown",
   "source": "### Vector Store",
   "id": "feaf58cf1c60e641"
  },
  {
   "metadata": {
    "ExecuteTime": {
     "end_time": "2025-08-15T00:36:11.450983Z",
     "start_time": "2025-08-15T00:36:10.082583Z"
    }
   },
   "cell_type": "code",
   "source": [
    "from langchain_chroma import Chroma\n",
    "\n",
    "vector_store = Chroma(\n",
    "    collection_name=\"fastapi_docs\",\n",
    "    embedding_function=llm_embeddings,\n",
    "    persist_directory=\"./chroma_fastapi_db\",\n",
    ")"
   ],
   "id": "295ec7146db7fb8a",
   "outputs": [],
   "execution_count": 9
  },
  {
   "metadata": {
    "ExecuteTime": {
     "start_time": "2025-08-15T00:36:11.467974Z"
    }
   },
   "cell_type": "code",
   "source": [
    "import time\n",
    "\n",
    "def add_documents_in_batches(vector_store, documents, batch_size=100, delay_seconds=20):\n",
    "    \"\"\"\n",
    "    Adiciona documentos ao vector_store em lotes para evitar erros de limite de taxa.\n",
    "    \"\"\"\n",
    "    for i in range(0, len(documents), batch_size):\n",
    "        batch = documents[i:i + batch_size]\n",
    "\n",
    "        print(f\"Processando lote de {i} a {i + len(batch)}...\")\n",
    "\n",
    "        vector_store.add_documents(batch)\n",
    "\n",
    "        print(f\"Lote processado. Aguardando {delay_seconds} segundos...\")\n",
    "\n",
    "        # Pausa a execução para respeitar o limite da API\n",
    "        time.sleep(delay_seconds)\n",
    "\n",
    "try:\n",
    "    add_documents_in_batches(vector_store, split_docs, 20, 35)\n",
    "    print(\"Todos os documentos foram adicionados com sucesso!\")\n",
    "except Exception as e:\n",
    "    print(f\"Ocorreu um erro durante o processamento: {e}\")"
   ],
   "id": "5c2f6ad1751413cc",
   "outputs": [
    {
     "name": "stdout",
     "output_type": "stream",
     "text": [
      "Processando lote de 0 a 5...\n",
      "Lote processado. Aguardando 20 segundos...\n",
      "Processando lote de 5 a 10...\n",
      "Lote processado. Aguardando 20 segundos...\n",
      "Processando lote de 10 a 15...\n",
      "Lote processado. Aguardando 20 segundos...\n",
      "Processando lote de 15 a 20...\n",
      "Lote processado. Aguardando 20 segundos...\n",
      "Processando lote de 20 a 25...\n",
      "Lote processado. Aguardando 20 segundos...\n",
      "Processando lote de 25 a 30...\n",
      "Lote processado. Aguardando 20 segundos...\n",
      "Processando lote de 30 a 35...\n",
      "Lote processado. Aguardando 20 segundos...\n",
      "Processando lote de 35 a 40...\n",
      "Lote processado. Aguardando 20 segundos...\n",
      "Processando lote de 40 a 45...\n",
      "Lote processado. Aguardando 20 segundos...\n",
      "Processando lote de 45 a 50...\n",
      "Lote processado. Aguardando 20 segundos...\n",
      "Processando lote de 50 a 55...\n",
      "Lote processado. Aguardando 20 segundos...\n",
      "Processando lote de 55 a 60...\n",
      "Lote processado. Aguardando 20 segundos...\n",
      "Processando lote de 60 a 65...\n",
      "Lote processado. Aguardando 20 segundos...\n",
      "Processando lote de 65 a 70...\n",
      "Lote processado. Aguardando 20 segundos...\n",
      "Processando lote de 70 a 75...\n",
      "Lote processado. Aguardando 20 segundos...\n",
      "Processando lote de 75 a 80...\n",
      "Lote processado. Aguardando 20 segundos...\n",
      "Processando lote de 80 a 85...\n",
      "Lote processado. Aguardando 20 segundos...\n",
      "Processando lote de 85 a 90...\n",
      "Lote processado. Aguardando 20 segundos...\n",
      "Processando lote de 90 a 95...\n",
      "Lote processado. Aguardando 20 segundos...\n",
      "Processando lote de 95 a 100...\n",
      "Lote processado. Aguardando 20 segundos...\n",
      "Processando lote de 100 a 105...\n",
      "Lote processado. Aguardando 20 segundos...\n",
      "Processando lote de 105 a 110...\n",
      "Lote processado. Aguardando 20 segundos...\n",
      "Processando lote de 110 a 115...\n",
      "Lote processado. Aguardando 20 segundos...\n",
      "Processando lote de 115 a 120...\n",
      "Lote processado. Aguardando 20 segundos...\n",
      "Processando lote de 120 a 125...\n",
      "Lote processado. Aguardando 20 segundos...\n",
      "Processando lote de 125 a 130...\n",
      "Lote processado. Aguardando 20 segundos...\n",
      "Processando lote de 130 a 135...\n",
      "Lote processado. Aguardando 20 segundos...\n",
      "Processando lote de 135 a 140...\n",
      "Lote processado. Aguardando 20 segundos...\n",
      "Processando lote de 140 a 145...\n",
      "Lote processado. Aguardando 20 segundos...\n",
      "Processando lote de 145 a 150...\n",
      "Lote processado. Aguardando 20 segundos...\n",
      "Processando lote de 150 a 155...\n",
      "Lote processado. Aguardando 20 segundos...\n",
      "Processando lote de 155 a 160...\n",
      "Lote processado. Aguardando 20 segundos...\n",
      "Processando lote de 160 a 165...\n",
      "Lote processado. Aguardando 20 segundos...\n",
      "Processando lote de 165 a 170...\n",
      "Lote processado. Aguardando 20 segundos...\n",
      "Processando lote de 170 a 175...\n",
      "Lote processado. Aguardando 20 segundos...\n",
      "Processando lote de 175 a 180...\n",
      "Lote processado. Aguardando 20 segundos...\n",
      "Processando lote de 180 a 185...\n",
      "Lote processado. Aguardando 20 segundos...\n",
      "Processando lote de 185 a 190...\n",
      "Lote processado. Aguardando 20 segundos...\n",
      "Processando lote de 190 a 195...\n",
      "Lote processado. Aguardando 20 segundos...\n",
      "Processando lote de 195 a 200...\n",
      "Lote processado. Aguardando 20 segundos...\n",
      "Processando lote de 200 a 205...\n",
      "Lote processado. Aguardando 20 segundos...\n",
      "Processando lote de 205 a 210...\n",
      "Lote processado. Aguardando 20 segundos...\n",
      "Processando lote de 210 a 215...\n",
      "Lote processado. Aguardando 20 segundos...\n",
      "Processando lote de 215 a 220...\n",
      "Lote processado. Aguardando 20 segundos...\n",
      "Processando lote de 220 a 225...\n",
      "Lote processado. Aguardando 20 segundos...\n",
      "Processando lote de 225 a 230...\n",
      "Lote processado. Aguardando 20 segundos...\n",
      "Processando lote de 230 a 235...\n",
      "Lote processado. Aguardando 20 segundos...\n",
      "Processando lote de 235 a 240...\n",
      "Lote processado. Aguardando 20 segundos...\n",
      "Processando lote de 240 a 245...\n",
      "Lote processado. Aguardando 20 segundos...\n",
      "Processando lote de 245 a 250...\n",
      "Lote processado. Aguardando 20 segundos...\n",
      "Processando lote de 250 a 255...\n",
      "Lote processado. Aguardando 20 segundos...\n",
      "Processando lote de 255 a 260...\n",
      "Lote processado. Aguardando 20 segundos...\n",
      "Processando lote de 260 a 265...\n",
      "Lote processado. Aguardando 20 segundos...\n",
      "Processando lote de 265 a 270...\n",
      "Lote processado. Aguardando 20 segundos...\n",
      "Processando lote de 270 a 275...\n",
      "Lote processado. Aguardando 20 segundos...\n",
      "Processando lote de 275 a 280...\n",
      "Lote processado. Aguardando 20 segundos...\n",
      "Processando lote de 280 a 285...\n",
      "Lote processado. Aguardando 20 segundos...\n",
      "Processando lote de 285 a 290...\n",
      "Lote processado. Aguardando 20 segundos...\n",
      "Processando lote de 290 a 295...\n",
      "Lote processado. Aguardando 20 segundos...\n",
      "Processando lote de 295 a 300...\n",
      "Lote processado. Aguardando 20 segundos...\n",
      "Processando lote de 300 a 305...\n",
      "Lote processado. Aguardando 20 segundos...\n",
      "Processando lote de 305 a 310...\n",
      "Lote processado. Aguardando 20 segundos...\n",
      "Processando lote de 310 a 315...\n",
      "Lote processado. Aguardando 20 segundos...\n",
      "Processando lote de 315 a 320...\n",
      "Lote processado. Aguardando 20 segundos...\n",
      "Processando lote de 320 a 325...\n",
      "Lote processado. Aguardando 20 segundos...\n",
      "Processando lote de 325 a 330...\n",
      "Lote processado. Aguardando 20 segundos...\n",
      "Processando lote de 330 a 335...\n",
      "Lote processado. Aguardando 20 segundos...\n",
      "Processando lote de 335 a 340...\n",
      "Lote processado. Aguardando 20 segundos...\n",
      "Processando lote de 340 a 345...\n",
      "Lote processado. Aguardando 20 segundos...\n",
      "Processando lote de 345 a 350...\n",
      "Lote processado. Aguardando 20 segundos...\n",
      "Processando lote de 350 a 355...\n",
      "Lote processado. Aguardando 20 segundos...\n",
      "Processando lote de 355 a 360...\n",
      "Lote processado. Aguardando 20 segundos...\n",
      "Processando lote de 360 a 365...\n",
      "Lote processado. Aguardando 20 segundos...\n",
      "Processando lote de 365 a 370...\n",
      "Lote processado. Aguardando 20 segundos...\n",
      "Processando lote de 370 a 375...\n",
      "Lote processado. Aguardando 20 segundos...\n",
      "Processando lote de 375 a 380...\n",
      "Lote processado. Aguardando 20 segundos...\n",
      "Processando lote de 380 a 385...\n",
      "Lote processado. Aguardando 20 segundos...\n",
      "Processando lote de 385 a 390...\n",
      "Lote processado. Aguardando 20 segundos...\n",
      "Processando lote de 390 a 395...\n",
      "Lote processado. Aguardando 20 segundos...\n",
      "Processando lote de 395 a 400...\n",
      "Lote processado. Aguardando 20 segundos...\n",
      "Processando lote de 400 a 405...\n",
      "Lote processado. Aguardando 20 segundos...\n",
      "Processando lote de 405 a 410...\n",
      "Lote processado. Aguardando 20 segundos...\n",
      "Processando lote de 410 a 415...\n",
      "Lote processado. Aguardando 20 segundos...\n",
      "Processando lote de 415 a 420...\n",
      "Lote processado. Aguardando 20 segundos...\n",
      "Processando lote de 420 a 425...\n",
      "Lote processado. Aguardando 20 segundos...\n",
      "Processando lote de 425 a 430...\n",
      "Lote processado. Aguardando 20 segundos...\n",
      "Processando lote de 430 a 435...\n",
      "Lote processado. Aguardando 20 segundos...\n",
      "Processando lote de 435 a 440...\n",
      "Lote processado. Aguardando 20 segundos...\n",
      "Processando lote de 440 a 445...\n",
      "Lote processado. Aguardando 20 segundos...\n",
      "Processando lote de 445 a 450...\n",
      "Lote processado. Aguardando 20 segundos...\n",
      "Processando lote de 450 a 455...\n",
      "Lote processado. Aguardando 20 segundos...\n",
      "Processando lote de 455 a 460...\n",
      "Lote processado. Aguardando 20 segundos...\n",
      "Processando lote de 460 a 465...\n",
      "Lote processado. Aguardando 20 segundos...\n",
      "Processando lote de 465 a 470...\n",
      "Lote processado. Aguardando 20 segundos...\n"
     ]
    }
   ],
   "execution_count": null
  },
  {
   "metadata": {},
   "cell_type": "markdown",
   "source": "## ChatModel",
   "id": "56796df07b258d7c"
  },
  {
   "metadata": {
    "ExecuteTime": {
     "end_time": "2025-08-15T00:28:27.672645Z",
     "start_time": "2025-08-15T00:28:27.643958Z"
    }
   },
   "cell_type": "code",
   "source": [
    "from langchain.chat_models import init_chat_model\n",
    "\n",
    "llm = init_chat_model(\"gemini-2.5-flash\", model_provider=\"google_genai\")"
   ],
   "id": "6fcd386faac73bdf",
   "outputs": [],
   "execution_count": 20
  },
  {
   "metadata": {},
   "cell_type": "markdown",
   "source": "## Prompt",
   "id": "fdd39288c41ac36e"
  },
  {
   "metadata": {
    "ExecuteTime": {
     "end_time": "2025-08-15T00:29:22.248978Z",
     "start_time": "2025-08-15T00:29:21.613336Z"
    }
   },
   "cell_type": "code",
   "source": [
    "from langchain import hub\n",
    "\n",
    "prompt = hub.pull(\"rlm/rag-prompt\")\n",
    "\n",
    "example_messages = prompt.invoke(\n",
    "    {\"context\": \"(context goes here)\", \"question\": \"(question goes here)\"}\n",
    ").to_messages()\n",
    "\n",
    "assert len(example_messages) == 1\n",
    "print(example_messages[0].content)"
   ],
   "id": "7a6a39077e14596d",
   "outputs": [
    {
     "name": "stderr",
     "output_type": "stream",
     "text": [
      "C:\\Users\\Victor Dantas\\PycharmProjects\\langchain_rag_tutorial\\.venv\\lib\\site-packages\\langsmith\\client.py:272: LangSmithMissingAPIKeyWarning: API key must be provided when using hosted LangSmith API\n",
      "  warnings.warn(\n"
     ]
    },
    {
     "name": "stdout",
     "output_type": "stream",
     "text": [
      "You are an assistant for question-answering tasks. Use the following pieces of retrieved context to answer the question. If you don't know the answer, just say that you don't know. Use three sentences maximum and keep the answer concise.\n",
      "Question: (question goes here) \n",
      "Context: (context goes here) \n",
      "Answer:\n"
     ]
    }
   ],
   "execution_count": 21
  },
  {
   "metadata": {
    "ExecuteTime": {
     "end_time": "2025-08-15T00:34:58.732707Z",
     "start_time": "2025-08-15T00:34:55.965533Z"
    }
   },
   "cell_type": "code",
   "source": [
    "from langchain.chains.retrieval_qa.base import RetrievalQA\n",
    "\n",
    "qa_chain = RetrievalQA.from_chain_type(llm, retriever=vector_store.as_retriever())\n",
    "\n",
    "pergunta = \"How can i add security, authentication and authorization in my API?\"\n",
    "resultado = qa_chain.invoke({ \"query\" : pergunta})\n",
    "print(resultado)"
   ],
   "id": "d3e78d0104517fab",
   "outputs": [
    {
     "name": "stdout",
     "output_type": "stream",
     "text": [
      "{'query': 'How can i add security, authentication and authorization in my API?', 'result': \"I'm sorry, but the provided context does not contain information on how to add security, authentication, or authorization to your FastAPI API.\"}\n"
     ]
    }
   ],
   "execution_count": 25
  }
 ],
 "metadata": {
  "kernelspec": {
   "display_name": "Python 3",
   "language": "python",
   "name": "python3"
  },
  "language_info": {
   "codemirror_mode": {
    "name": "ipython",
    "version": 2
   },
   "file_extension": ".py",
   "mimetype": "text/x-python",
   "name": "python",
   "nbconvert_exporter": "python",
   "pygments_lexer": "ipython2",
   "version": "2.7.6"
  }
 },
 "nbformat": 4,
 "nbformat_minor": 5
}
